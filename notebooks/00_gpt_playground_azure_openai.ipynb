{
 "cells": [
  {
   "cell_type": "markdown",
   "id": "c2a18493-2971-4a2a-a804-56188b0c2383",
   "metadata": {},
   "source": [
    "# Azure OpenAI GPT Playground"
   ]
  },
  {
   "cell_type": "code",
   "execution_count": 74,
   "id": "7fdb99ed-b769-4b28-8749-0828fa6c5651",
   "metadata": {},
   "outputs": [],
   "source": [
    "import json\n",
    "import openai"
   ]
  },
  {
   "cell_type": "code",
   "execution_count": 75,
   "id": "057ab0ec-afb5-421d-bab7-061361ffa9a5",
   "metadata": {},
   "outputs": [],
   "source": [
    "def prompt_completion(messages, model, temperature=0.3, max_tokens=500, top_p=0.95, stop=None):\n",
    "    response = openai.ChatCompletion.create(\n",
    "                  engine=model,\n",
    "                  messages=messages,\n",
    "                  temperature=temperature,\n",
    "                  max_tokens=max_tokens,\n",
    "                  top_p=top_p,\n",
    "                  stop=stop\n",
    "                  )\n",
    "    return response['choices'][0]['message']['content'].strip()\n",
    "\n",
    "def preprocess_prompt(prompt, instruction=None):\n",
    "    system_message = \"You are an AI assistant that helps people find information.\" if instruction is None else instruction\n",
    "    messages=[{\"role\": \"system\", \"content\": system_message}, {\"role\": \"user\", \"content\": prompt}]\n",
    "    return messages"
   ]
  },
  {
   "cell_type": "markdown",
   "id": "66ffa76f-8257-4e68-8475-9c354ece0b34",
   "metadata": {},
   "source": [
    "## Configure Azure OpenAI API"
   ]
  },
  {
   "cell_type": "code",
   "execution_count": 76,
   "id": "ddb6208a-d9ab-4a4d-8c15-dfa6d28d78a7",
   "metadata": {},
   "outputs": [],
   "source": [
    "with open('../configs/config.json', 'r') as f:\n",
    "    config = json.load(f)"
   ]
  },
  {
   "cell_type": "code",
   "execution_count": 77,
   "id": "3f473d08-1772-4966-ae7b-85faf13ed70b",
   "metadata": {},
   "outputs": [],
   "source": [
    "openai.api_key = config['OPENAI_API_KEY']\n",
    "openai.api_base = config['OPENAI_API_BASE']\n",
    "openai.api_type = config['OPENAI_API_TYPE']\n",
    "openai.api_version = config['OPENAI_API_VERSION']\n",
    "model_name = config['OPENAI_MODEL_NAME']"
   ]
  },
  {
   "cell_type": "markdown",
   "id": "24d97d7b-3ac6-422f-be6c-75526335f513",
   "metadata": {},
   "source": [
    "## Extract Entities"
   ]
  },
  {
   "cell_type": "code",
   "execution_count": 118,
   "id": "7f1f3e65-2432-4df3-bd33-353a46966567",
   "metadata": {},
   "outputs": [
    {
     "name": "stdout",
     "output_type": "stream",
     "text": [
      "Entities:\n",
      "- iPhone (product)\n",
      "- Apple (brand)\n",
      "- screen (feature)\n",
      "- camera (feature)\n"
     ]
    }
   ],
   "source": [
    "prompt = (\"Extract the entities from the following text: \"\n",
    "              \"The new iPhone model is set to be released next month. \"\n",
    "              \"It has been highly anticipated by Apple fans and is expected \"\n",
    "              \"to feature a larger screen and improved camera.\")\n",
    "\n",
    "messages = preprocess_prompt(prompt)\n",
    "response = prompt_completion(messages, model=model_name)\n",
    "print(response)"
   ]
  },
  {
   "cell_type": "code",
   "execution_count": 117,
   "id": "fc9c20c0-a2f5-402b-9734-5d57521e3981",
   "metadata": {},
   "outputs": [
    {
     "name": "stdout",
     "output_type": "stream",
     "text": [
      "{\n",
      "  \"entities\": [\n",
      "    {\n",
      "      \"entity\": \"iPhone\",\n",
      "      \"type\": \"product\"\n",
      "    },\n",
      "    {\n",
      "      \"entity\": \"Apple\",\n",
      "      \"type\": \"company\"\n",
      "    },\n",
      "    {\n",
      "      \"entity\": \"screen\",\n",
      "      \"type\": \"feature\"\n",
      "    },\n",
      "    {\n",
      "      \"entity\": \"camera\",\n",
      "      \"type\": \"feature\"\n",
      "    },\n",
      "    {\n",
      "      \"entity\": \"next month\",\n",
      "      \"type\": \"time\"\n",
      "    }\n",
      "  ]\n",
      "}\n"
     ]
    }
   ],
   "source": [
    "prompt = (\"Extract the entities from the following text and produce output in the json format: \"\n",
    "              \"The new iPhone model is set to be released next month. \"\n",
    "              \"It has been highly anticipated by Apple fans and is expected \"\n",
    "              \"to feature a larger screen and improved camera.\")\n",
    "\n",
    "messages = preprocess_prompt(prompt)\n",
    "response = prompt_completion(messages, model=model_name)\n",
    "print(response)"
   ]
  },
  {
   "cell_type": "code",
   "execution_count": 116,
   "id": "58008c8b-91b7-4b04-9857-1170e138f256",
   "metadata": {},
   "outputs": [
    {
     "name": "stdout",
     "output_type": "stream",
     "text": [
      "The information is about a new iPhone product that will be released by Apple next month. The new iPhone will have a larger screen and an improved camera.\n"
     ]
    }
   ],
   "source": [
    "prompt = (\"\"\"Please summarize the information about the product based on the following: \n",
    "            {\n",
    "              \"entities\": [\n",
    "                {\n",
    "                  \"entity\": \"iPhone\",\n",
    "                  \"type\": \"product\"\n",
    "                },\n",
    "                {\n",
    "                  \"entity\": \"Apple\",\n",
    "                  \"type\": \"company\"\n",
    "                },\n",
    "                {\n",
    "                  \"entity\": \"next month\",\n",
    "                  \"type\": \"date\"\n",
    "                },\n",
    "                {\n",
    "                  \"entity\": \"larger screen\",\n",
    "                  \"type\": \"feature\"\n",
    "                },\n",
    "                {\n",
    "                  \"entity\": \"improved camera\",\n",
    "                  \"type\": \"feature\"\n",
    "                }\n",
    "              ]\n",
    "            }\n",
    "        \"\"\")\n",
    "\n",
    "messages = preprocess_prompt(prompt)\n",
    "response = prompt_completion(messages, model=model_name)\n",
    "print(response)"
   ]
  },
  {
   "cell_type": "code",
   "execution_count": 115,
   "id": "d84dd485-23a6-46fa-87fe-c5dcbe948324",
   "metadata": {},
   "outputs": [
    {
     "name": "stdout",
     "output_type": "stream",
     "text": [
      "Sentiment: Neutral\n",
      "\n",
      "Output:\n",
      "{\n",
      "  \"text\": \"Apple is releasing a new iPhone with a larger screen and improved camera next month.\",\n",
      "  \"sentiment\": \"Neutral\"\n",
      "}\n"
     ]
    }
   ],
   "source": [
    "prompt = (\"Please provide a sentiment for the following text and produce output as json: \"\n",
    "          \"Apple is releasing a new iPhone with a larger screen and improved camera next month.\")\n",
    "\n",
    "messages = preprocess_prompt(prompt)\n",
    "response = prompt_completion(messages, model=model_name)\n",
    "print(response)"
   ]
  },
  {
   "cell_type": "markdown",
   "id": "faf76224-dff3-4dfd-8eaf-4a4c5ba04bf6",
   "metadata": {},
   "source": [
    "### Translation"
   ]
  },
  {
   "cell_type": "code",
   "execution_count": 114,
   "id": "d46a1856-cfa1-4781-8d77-4f41c40d2386",
   "metadata": {},
   "outputs": [
    {
     "name": "stdout",
     "output_type": "stream",
     "text": [
      "Ich muess go schoppe, damit ich es Nüüni-Znüni für min Sohn vorbereite cha.\n"
     ]
    }
   ],
   "source": [
    "prompt = (\"Please translate the following text in Swiss German: \"\n",
    "          \"I have to go shopping so that I can prepare a nine o’clock snack for my son.\")\n",
    "\n",
    "messages = preprocess_prompt(prompt)\n",
    "response = prompt_completion(messages, model=model_name)\n",
    "print(response)"
   ]
  },
  {
   "cell_type": "markdown",
   "id": "2a729968-b967-44b6-a41b-7eda211944ac",
   "metadata": {},
   "source": [
    "### Explain solution"
   ]
  },
  {
   "cell_type": "code",
   "execution_count": 113,
   "id": "a3efbe0d-685d-4300-a70c-fc648890b514",
   "metadata": {},
   "outputs": [
    {
     "name": "stdout",
     "output_type": "stream",
     "text": [
      "The student's solution is correct.\n"
     ]
    }
   ],
   "source": [
    "prompt = (\"Determine if the student's solution is correct or not: \"\n",
    "          \"Question: I'm building a solar power installation and I need help working out the financials. \"\n",
    "              \"Land costs $100 / square foot \"\n",
    "              \"I can buy solar panels for $250 / square foot \"\n",
    "              \"I negotiated a contract for maintenance that will cost me a flat $100k per year, and an additional $10 square foot \"\n",
    "          \"What is the total cost for the first year of operations as a function of the number of square feet. \"\n",
    "          \"Student's Solution: Let x be the size of the installation in square feet. \"\n",
    "          \"Costs: \"\n",
    "              \"1. Land cost: 100x \"\n",
    "              \"2. Solar panel cost: 250x \"\n",
    "              \"3. Maintenance cost: 100,000 + 100x \"\n",
    "          \"Total cost: 100x + 250x + 100,000 + 100x = 450x + 100,000 \")\n",
    "\n",
    "messages = preprocess_prompt(prompt)\n",
    "response = prompt_completion(messages, model=model_name)\n",
    "print(response)"
   ]
  },
  {
   "cell_type": "code",
   "execution_count": 112,
   "id": "4870200c-7b4b-43a4-821a-fb2d21ded85d",
   "metadata": {},
   "outputs": [
    {
     "name": "stdout",
     "output_type": "stream",
     "text": [
      "To calculate the total cost for the first year of operations as a function of the number of square feet, we need to consider the cost of land, solar panels, and maintenance.\n",
      "\n",
      "Let's assume that the number of square feet is represented by \"x\".\n",
      "\n",
      "The cost of land would be $100 times the number of square feet, which is 100x.\n",
      "\n",
      "The cost of solar panels would be $250 times the number of square feet, which is 250x.\n",
      "\n",
      "The cost of maintenance would be a flat $100k per year, plus $10 per square foot. So the total cost of maintenance would be $100k + $10 times the number of square feet, which is 100k + 10x.\n",
      "\n",
      "Therefore, the total cost for the first year of operations would be the sum of the cost of land, solar panels, and maintenance. \n",
      "\n",
      "Total cost = Cost of land + Cost of solar panels + Cost of maintenance\n",
      "Total cost = 100x + 250x + (100k + 10x)\n",
      "Total cost = 360x + 100k\n",
      "\n",
      "So the total cost for the first year of operations as a function of the number of square feet is 360x + 100k.\n"
     ]
    }
   ],
   "source": [
    "prompt = (\"Solve the following question and explain the reasoning: \"\n",
    "          \"Question: I'm building a solar power installation and I need help working out the financials. \"\n",
    "              \"Land costs $100 / square foot \"\n",
    "              \"I can buy solar panels for $250 / square foot \"\n",
    "              \"I negotiated a contract for maintenance that will cost me a flat $100k per year, and an additional $10 square foot \"\n",
    "          \"What is the total cost for the first year of operations as a function of the number of square feet. \"\n",
    "          \"Solution:\"\n",
    "         )\n",
    "\n",
    "messages = preprocess_prompt(prompt)\n",
    "response = prompt_completion(messages, model=model_name)\n",
    "print(response)"
   ]
  },
  {
   "cell_type": "markdown",
   "id": "a5a931bb-7a1c-4ba3-8180-b4880ec43e49",
   "metadata": {},
   "source": [
    "### System Instruction"
   ]
  },
  {
   "cell_type": "code",
   "execution_count": 111,
   "id": "49f2dbc3-b453-4a4b-92f1-879d23eb9038",
   "metadata": {},
   "outputs": [
    {
     "name": "stdout",
     "output_type": "stream",
     "text": [
      "Generative AI bezieht sich auf eine Art von künstlicher Intelligenz, die in der Lage ist, neue Daten oder Inhalte zu erstellen, die auf vorhandenen Mustern oder Regeln basieren. Im Gegensatz zu anderen Arten von künstlicher Intelligenz, die darauf ausgelegt sind, Muster in vorhandenen Daten zu erkennen und Vorhersagen zu treffen, kann Generative AI tatsächlich neue Daten generieren, die ähnlich wie die vorhandenen Daten sind. Dies wird durch die Verwendung von Deep-Learning-Modellen und anderen fortgeschrittenen Technologien erreicht, die es der künstlichen Intelligenz ermöglichen, komplexe Muster und Zusammenhänge zu erkennen und zu reproduzieren. Generative AI wird in einer Vielzahl von Anwendungen eingesetzt, darunter Bild- und Spracherkennung, Textgenerierung und sogar Musikkomposition.\n"
     ]
    }
   ],
   "source": [
    "prompt = (\"Explain Generative AI in German Language.\")\n",
    "\n",
    "messages = preprocess_prompt(prompt)\n",
    "response = prompt_completion(messages, model=model_name)\n",
    "print(response)"
   ]
  },
  {
   "cell_type": "code",
   "execution_count": 110,
   "id": "551e3384-5fd9-4d55-b9f5-c88132c1d442",
   "metadata": {},
   "outputs": [
    {
     "name": "stdout",
     "output_type": "stream",
     "text": [
      "Entschuldigung, ich habe Ihre Anweisungen nicht verstanden. Ich bin ein AI-Assistent, der Menschen bei der Suche nach Informationen hilft, aber ich spreche nicht auf Deutsch. Kann ich Ihnen bei etwas anderem helfen?\n"
     ]
    }
   ],
   "source": [
    "prompt = (\"Explain Generative AI in German Language.\")\n",
    "\n",
    "messages = preprocess_prompt(prompt, \n",
    "                             instruction=\"You are an AI assistant that helps people find information. Don't speak in German.\")\n",
    "response = prompt_completion(messages, model=model_name)\n",
    "print(response)"
   ]
  },
  {
   "cell_type": "code",
   "execution_count": 109,
   "id": "78c60163-f8a7-4051-8dbf-7e65ee5e06cd",
   "metadata": {},
   "outputs": [
    {
     "name": "stdout",
     "output_type": "stream",
     "text": [
      "I'm sorry, but I can only converse in English as per my programming. Can I assist you with anything else in English?\n"
     ]
    }
   ],
   "source": [
    "prompt = (\"Explain Generative AI in German Language.\")\n",
    "\n",
    "messages = preprocess_prompt(prompt, \n",
    "                             instruction=\"You are an AI assistant that helps people find information. Please only converse in English. Say no to other languages.\")\n",
    "response = prompt_completion(messages, model=model_name)\n",
    "print(response)"
   ]
  },
  {
   "cell_type": "markdown",
   "id": "a0cf90a1-5fa8-4bc6-a8aa-0c0a47d8a6ab",
   "metadata": {},
   "source": [
    "### Hallucination"
   ]
  },
  {
   "cell_type": "markdown",
   "id": "8b448281-183f-4fd5-a25a-abdd68f19746",
   "metadata": {},
   "source": [
    "Possible solutions:\n",
    "- Limit the outcome e.g. MCQ, Yes/No\n",
    "- Specify a specific system role and instruct it not to lie\n",
    "- Experiment with Temperature\n",
    "- Transparency and Explainablity\n",
    "- Human-in-loop"
   ]
  },
  {
   "cell_type": "code",
   "execution_count": 108,
   "id": "306b21ad-ace9-4e49-a749-b6d721f6735f",
   "metadata": {},
   "outputs": [
    {
     "name": "stdout",
     "output_type": "stream",
     "text": [
      "The AeroGlide UltraSlim Smart Toothbrush by Boie is a high-tech toothbrush that uses sonic vibrations to clean your teeth. It has a slim design that makes it easy to maneuver and reach all areas of your mouth. The toothbrush also features a smart timer that ensures you brush for the recommended two minutes. The brush head is made of a soft, antimicrobial material that is gentle on your teeth and gums. Additionally, the toothbrush comes with a charging base that can be used to charge the brush between uses. Overall, the AeroGlide UltraSlim Smart Toothbrush by Boie is a great option for anyone looking for a high-quality toothbrush that is both effective and easy to use.\n"
     ]
    }
   ],
   "source": [
    "prompt = (\"Tell me about AeroGlide UltraSlim Smart Toothbrush by Boie.\")\n",
    "\n",
    "messages = preprocess_prompt(prompt)\n",
    "response = prompt_completion(messages, model=model_name)\n",
    "print(response)"
   ]
  },
  {
   "cell_type": "code",
   "execution_count": 106,
   "id": "c9f2b4c8-31f9-458b-ba93-2e6c82414a1a",
   "metadata": {},
   "outputs": [
    {
     "name": "stdout",
     "output_type": "stream",
     "text": [
      "The AeroGlide UltraSlim Smart Toothbrush by Boie is a toothbrush that uses sonic vibrations to clean teeth. It has a slim design that allows it to reach tight spaces in the mouth, and it comes with a charging base that can be used to charge the toothbrush. The toothbrush also has a smart timer that helps users brush for the recommended two minutes, and it connects to a mobile app that provides feedback on brushing habits. However, as an AI language model, I do not have personal experience with the product, and my information is based on publicly available sources.\n"
     ]
    }
   ],
   "source": [
    "prompt = (\"Tell me about AeroGlide UltraSlim Smart Toothbrush by Boie.\")\n",
    "\n",
    "messages = preprocess_prompt(prompt, instruction=\"You are an AI assistant that helps people find information. Please answer only if you are very sure otherwise say no.\")\n",
    "response = prompt_completion(messages, model=model_name, temperature=0)\n",
    "print(response)"
   ]
  },
  {
   "cell_type": "code",
   "execution_count": null,
   "id": "4c8253f7-c5ae-45c1-9f35-95d79e62a441",
   "metadata": {},
   "outputs": [],
   "source": []
  },
  {
   "cell_type": "code",
   "execution_count": null,
   "id": "9d013785-49ed-4410-bb7f-27618b3de5a0",
   "metadata": {},
   "outputs": [],
   "source": []
  },
  {
   "cell_type": "code",
   "execution_count": null,
   "id": "b3c618ab-5ecc-4a9c-baf6-9d1d4d13fbbd",
   "metadata": {},
   "outputs": [],
   "source": []
  }
 ],
 "metadata": {
  "kernelspec": {
   "display_name": "zeiss_intel",
   "language": "python",
   "name": "zeiss_intel"
  },
  "language_info": {
   "codemirror_mode": {
    "name": "ipython",
    "version": 3
   },
   "file_extension": ".py",
   "mimetype": "text/x-python",
   "name": "python",
   "nbconvert_exporter": "python",
   "pygments_lexer": "ipython3",
   "version": "3.10.11"
  }
 },
 "nbformat": 4,
 "nbformat_minor": 5
}
