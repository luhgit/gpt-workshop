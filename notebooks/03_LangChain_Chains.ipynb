{
 "cells": [
  {
   "cell_type": "markdown",
   "id": "d3c3ed1e-a868-4e6c-a2aa-e40f20404851",
   "metadata": {},
   "source": [
    "# LangChain - Chains & Memory"
   ]
  },
  {
   "cell_type": "markdown",
   "id": "ca92c30a-b7ef-4d90-a1f1-6681ce8dd93e",
   "metadata": {},
   "source": [
    "Credit: Coursera"
   ]
  },
  {
   "cell_type": "markdown",
   "id": "79a9cde6-4afd-426c-b260-bd3834216752",
   "metadata": {},
   "source": [
    "Chains:\n",
    "- SimpleSequentialChain\n",
    "- SequentialChain\n",
    "- RouterChain"
   ]
  },
  {
   "cell_type": "code",
   "execution_count": 169,
   "id": "145e9ed2-4441-4da6-ac94-44c3b75eebd1",
   "metadata": {},
   "outputs": [],
   "source": [
    "import os\n",
    "import json\n",
    "import pandas as pd\n",
    "from langchain import LLMChain\n",
    "from langchain.chat_models import AzureChatOpenAI\n",
    "from langchain.memory import ConversationBufferMemory\n",
    "from langchain.chains import ConversationChain\n",
    "from langchain.prompts import ChatPromptTemplate\n",
    "from langchain.memory import SimpleMemory"
   ]
  },
  {
   "cell_type": "code",
   "execution_count": 4,
   "id": "9bc9c2b7-fb3e-4e3a-b3b6-14cb5fbe8fd9",
   "metadata": {},
   "outputs": [],
   "source": [
    "with open('../configs/config.json', 'r') as f:\n",
    "    config = json.load(f)"
   ]
  },
  {
   "cell_type": "code",
   "execution_count": 5,
   "id": "254a9735-813c-487e-9c18-1b7343b079dd",
   "metadata": {},
   "outputs": [],
   "source": [
    "os.environ['OPENAI_API_TYPE']=config['OPENAI_API_TYPE']\n",
    "os.environ['OPENAI_API_VERSION']=config['OPENAI_API_VERSION']\n",
    "os.environ['OPENAI_API_BASE']=config['OPENAI_API_BASE']\n",
    "os.environ['OPENAI_API_KEY']=config['OPENAI_API_KEY']"
   ]
  },
  {
   "cell_type": "code",
   "execution_count": null,
   "id": "f561db0a-2bbd-457a-85b7-11496660df44",
   "metadata": {},
   "outputs": [],
   "source": [
    "# Define the LLM model\n",
    "llm = AzureChatOpenAI(deployment_name=config['OPENAI_MODEL_NAME'], \n",
    "                       model_name=\"gpt-35-turbo\", \n",
    "                       temperature=0.0)"
   ]
  },
  {
   "cell_type": "markdown",
   "id": "65a5ec40-9928-4738-9f61-3f5e63b8be97",
   "metadata": {},
   "source": [
    "## Chains"
   ]
  },
  {
   "cell_type": "markdown",
   "id": "2742a3b1-4755-4837-b5c6-b5f8548e9b87",
   "metadata": {},
   "source": [
    "![Simple Seuqntial Chain](../images/sequential_chains.png)"
   ]
  },
  {
   "cell_type": "code",
   "execution_count": 74,
   "id": "f43d10c4-6063-4cbb-a864-06bb772db1b3",
   "metadata": {},
   "outputs": [],
   "source": [
    "file = '../data/Data.csv'\n",
    "df = pd.read_csv(file, sep=',')"
   ]
  },
  {
   "cell_type": "markdown",
   "id": "105b1f6f-6780-4647-b4e9-edca3f743709",
   "metadata": {},
   "source": [
    "### LLMChain\n",
    "Basic chain which combines a model and a prompt"
   ]
  },
  {
   "cell_type": "code",
   "execution_count": 75,
   "id": "a23ac8e3-984d-4658-80e1-94f7f54cf7ed",
   "metadata": {},
   "outputs": [],
   "source": [
    "from langchain.prompts import ChatPromptTemplate\n",
    "from langchain.chains import LLMChain"
   ]
  },
  {
   "cell_type": "code",
   "execution_count": 76,
   "id": "9d762722-862d-46db-aba7-477de5cce8d6",
   "metadata": {},
   "outputs": [],
   "source": [
    "llm = AzureChatOpenAI(deployment_name=config['OPENAI_MODEL_NAME'], \n",
    "                       model_name=\"gpt-35-turbo\", \n",
    "                       temperature=0.9)"
   ]
  },
  {
   "cell_type": "code",
   "execution_count": 77,
   "id": "28205908-ec34-4de3-ab0d-0b4fdb7eee63",
   "metadata": {},
   "outputs": [],
   "source": [
    "prompt = ChatPromptTemplate.from_template(\n",
    "    \"What is the best name to describe \\\n",
    "    a company that makes {product}?\"\n",
    ")"
   ]
  },
  {
   "cell_type": "code",
   "execution_count": 78,
   "id": "2141d327-cc5c-4726-8601-a77ca6665fa3",
   "metadata": {},
   "outputs": [],
   "source": [
    "chain = LLMChain(llm=llm, prompt=prompt)"
   ]
  },
  {
   "cell_type": "code",
   "execution_count": 79,
   "id": "c82c84a4-cac4-4e06-9458-197d98a54d3e",
   "metadata": {},
   "outputs": [
    {
     "data": {
      "text/plain": [
       "'Royal Bedding Company'"
      ]
     },
     "execution_count": 79,
     "metadata": {},
     "output_type": "execute_result"
    }
   ],
   "source": [
    "product = \"Queen Size Sheet Set\"\n",
    "chain.run(product)"
   ]
  },
  {
   "cell_type": "markdown",
   "id": "d75ff9d0-1bef-432e-9ee5-ca22c370e1f1",
   "metadata": {},
   "source": [
    "## SimpleSequentialChain"
   ]
  },
  {
   "cell_type": "markdown",
   "id": "97808193-7a8b-464e-bc23-29f572a303b1",
   "metadata": {},
   "source": [
    "![Simple Seuqntial Chain](../images/simple_sequential_chain.png)"
   ]
  },
  {
   "cell_type": "code",
   "execution_count": 80,
   "id": "91f187e8-4484-46c4-9266-aac03e3a8e73",
   "metadata": {},
   "outputs": [],
   "source": [
    "from langchain.chains import SimpleSequentialChain"
   ]
  },
  {
   "cell_type": "code",
   "execution_count": 160,
   "id": "243f5a59-4d0c-4d3d-9e53-955ffbb2874a",
   "metadata": {},
   "outputs": [],
   "source": [
    "# Template for Entity Extraction\n",
    "entity_template = \"\"\"{instruction}\n",
    "The new iPhone model is set to be released next month.\n",
    "It has been highly anticipated by Apple fans and is expected\n",
    "to feature a larger screen and improved camera.\"\"\"\n",
    "\n",
    "entity_prompt_template = ChatPromptTemplate.from_template(entity_template)\n",
    "entity_chain = LLMChain(llm=llm, prompt=entity_prompt_template)"
   ]
  },
  {
   "cell_type": "code",
   "execution_count": 161,
   "id": "cfb65528-3a2e-4520-b5af-9707c773f9f0",
   "metadata": {},
   "outputs": [],
   "source": [
    "# Template for text generation\n",
    "text_template = \"\"\"Please summarize the information about the product based on the following: {entities}\"\"\"\n",
    "\n",
    "text_prompt_template = ChatPromptTemplate.from_template(text_template)\n",
    "text_chain = LLMChain(llm=llm, prompt=text_prompt_template)"
   ]
  },
  {
   "cell_type": "code",
   "execution_count": 162,
   "id": "9b69d748-c07d-412b-9a29-15acae218ffc",
   "metadata": {},
   "outputs": [],
   "source": [
    "# Template for Sentiment Analysis\n",
    "sentiment_template = \"\"\"Please provide a sentiment for the following text and produce output as json: {text}\"\"\"\n",
    "\n",
    "sentiment_prompt_template = ChatPromptTemplate.from_template(sentiment_template)\n",
    "sentiment_chain = LLMChain(llm=llm, prompt=sentiment_prompt_template)"
   ]
  },
  {
   "cell_type": "code",
   "execution_count": 163,
   "id": "b74fa9b5-9f76-4cac-805e-c1760c8a2991",
   "metadata": {},
   "outputs": [],
   "source": [
    "# Create Final chain\n",
    "overal_simple_chain = SimpleSequentialChain(chains=[entity_chain, text_chain, sentiment_chain], \n",
    "                                            verbose=True)"
   ]
  },
  {
   "cell_type": "code",
   "execution_count": 164,
   "id": "82ec896c-2318-4d72-961c-5e2429a7dd4e",
   "metadata": {},
   "outputs": [
    {
     "name": "stdout",
     "output_type": "stream",
     "text": [
      "\n",
      "\n",
      "\u001b[1m> Entering new SimpleSequentialChain chain...\u001b[0m\n",
      "\u001b[36;1m\u001b[1;3m{\n",
      "  \"entities\": [\n",
      "    {\n",
      "      \"entity\": \"iPhone\",\n",
      "      \"type\": \"product\"\n",
      "    },\n",
      "    {\n",
      "      \"entity\": \"Apple\",\n",
      "      \"type\": \"company\"\n",
      "    },\n",
      "    {\n",
      "      \"entity\": \"next month\",\n",
      "      \"type\": \"time\"\n",
      "    },\n",
      "    {\n",
      "      \"entity\": \"larger screen\",\n",
      "      \"type\": \"feature\"\n",
      "    },\n",
      "    {\n",
      "      \"entity\": \"improved camera\",\n",
      "      \"type\": \"feature\"\n",
      "    }\n",
      "  ]\n",
      "}\u001b[0m\n",
      "\u001b[33;1m\u001b[1;3mApple is releasing a new iPhone with a larger screen and improved camera next month.\u001b[0m\n",
      "\u001b[38;5;200m\u001b[1;3m{\n",
      "    \"text\": \"Apple is releasing a new iPhone with a larger screen and improved camera next month.\",\n",
      "    \"sentiment\": \"positive\"\n",
      "}\u001b[0m\n",
      "\n",
      "\u001b[1m> Finished chain.\u001b[0m\n"
     ]
    },
    {
     "data": {
      "text/plain": [
       "'{\\n    \"text\": \"Apple is releasing a new iPhone with a larger screen and improved camera next month.\",\\n    \"sentiment\": \"positive\"\\n}'"
      ]
     },
     "execution_count": 164,
     "metadata": {},
     "output_type": "execute_result"
    }
   ],
   "source": [
    "overal_simple_chain.run(\"Extract the entities from the following text and produce output in the json format:\")"
   ]
  },
  {
   "cell_type": "markdown",
   "id": "261b46a1-cf29-495f-9126-0ebe48bbfad6",
   "metadata": {},
   "source": [
    "## SequentialChain"
   ]
  },
  {
   "cell_type": "markdown",
   "id": "62558fd8-bf08-4507-9119-5c14788d00c0",
   "metadata": {},
   "source": [
    "![Simple Seuqntial Chain](../images/sequential_chain.png)"
   ]
  },
  {
   "cell_type": "code",
   "execution_count": 85,
   "id": "8b5a73b8-2e23-4714-831d-827b5b469295",
   "metadata": {},
   "outputs": [],
   "source": [
    "from langchain.chains import SequentialChain"
   ]
  },
  {
   "cell_type": "code",
   "execution_count": 86,
   "id": "44566191-24f2-41bf-b471-25d415e546dc",
   "metadata": {},
   "outputs": [],
   "source": [
    "# prompt template 1: translate to english\n",
    "first_prompt = ChatPromptTemplate.from_template(\n",
    "    \"Translate the following review to english:\"\n",
    "    \"\\n\\n{Review}\"\n",
    ")\n",
    "# chain 1: input= Review and output= English_Review\n",
    "chain_one = LLMChain(llm=llm, prompt=first_prompt, \n",
    "                     output_key=\"English_Review\"\n",
    "                    )"
   ]
  },
  {
   "cell_type": "code",
   "execution_count": 87,
   "id": "8351cc40-298e-43c9-945a-4c932503efe4",
   "metadata": {},
   "outputs": [],
   "source": [
    "second_prompt = ChatPromptTemplate.from_template(\n",
    "    \"Can you summarize the following review in 1 sentence:\"\n",
    "    \"\\n\\n{English_Review}\"\n",
    ")\n",
    "# chain 2: input= English_Review and output= summary\n",
    "chain_two = LLMChain(llm=llm, prompt=second_prompt, \n",
    "                     output_key=\"summary\"\n",
    "                    )\n"
   ]
  },
  {
   "cell_type": "code",
   "execution_count": 88,
   "id": "5a41480e-da43-4beb-b1d1-81c3ec2e9e7f",
   "metadata": {},
   "outputs": [],
   "source": [
    "# prompt template 3: translate to english\n",
    "third_prompt = ChatPromptTemplate.from_template(\n",
    "    \"What language is the following review:\\n\\n{Review}\"\n",
    ")\n",
    "# chain 3: input= Review and output= language\n",
    "chain_three = LLMChain(llm=llm, prompt=third_prompt,\n",
    "                       output_key=\"language\"\n",
    "                      )"
   ]
  },
  {
   "cell_type": "code",
   "execution_count": 89,
   "id": "01bcad92-a143-4c26-a8d5-ab26885ec73e",
   "metadata": {},
   "outputs": [],
   "source": [
    "# prompt template 4: follow up message\n",
    "fourth_prompt = ChatPromptTemplate.from_template(\n",
    "    \"Write a follow up response to the following \"\n",
    "    \"summary in the specified language:\"\n",
    "    \"\\n\\nSummary: {summary}\\n\\nLanguage: {language}\"\n",
    ")\n",
    "# chain 4: input= summary, language and output= followup_message\n",
    "chain_four = LLMChain(llm=llm, prompt=fourth_prompt,\n",
    "                      output_key=\"followup_message\"\n",
    "                     )"
   ]
  },
  {
   "cell_type": "code",
   "execution_count": 90,
   "id": "e108cd00-a601-4e0e-895a-086e820a31b8",
   "metadata": {},
   "outputs": [],
   "source": [
    "# overall_chain: input= Review \n",
    "# and output= English_Review,summary, followup_message\n",
    "overall_chain = SequentialChain(\n",
    "    chains=[chain_one, chain_two, chain_three, chain_four],\n",
    "    input_variables=[\"Review\"],\n",
    "    output_variables=[\"English_Review\", \"summary\",\"followup_message\"],\n",
    "    verbose=True\n",
    ")"
   ]
  },
  {
   "cell_type": "code",
   "execution_count": 91,
   "id": "8ecffabe-94aa-43f0-8632-058e963dd803",
   "metadata": {},
   "outputs": [
    {
     "name": "stdout",
     "output_type": "stream",
     "text": [
      "\n",
      "\n",
      "\u001b[1m> Entering new SequentialChain chain...\u001b[0m\n",
      "\n",
      "\u001b[1m> Finished chain.\u001b[0m\n"
     ]
    },
    {
     "data": {
      "text/plain": [
       "{'Review': \"Je trouve le goût médiocre. La mousse ne tient pas, c'est bizarre. J'achète les mêmes dans le commerce et le goût est bien meilleur...\\nVieux lot ou contrefaçon !?\",\n",
       " 'English_Review': '\"I find the taste mediocre. The foam does not hold up, which is strange. I buy the same thing from the store and the taste is much better... Old batch or counterfeit!?\"',\n",
       " 'summary': \"The reviewer thinks the taste of the product they received is mediocre and suspects it may be an old batch or counterfeit because the foam doesn't hold up as well as the store-bought version.\",\n",
       " 'followup_message': \"Réponse de suivi:\\n\\nNous sommes désolés d'apprendre que le produit que vous avez reçu n'a pas répondu à vos attentes en termes de goût et de qualité. Nous prenons très au sérieux les préoccupations de nos clients en matière d'authenticité et nous travaillons dur pour nous assurer que tous nos produits sont frais et de la plus haute qualité. Nous aimerions en savoir plus sur votre expérience afin de pouvoir enquêter sur cette question. Si vous pouviez nous contacter directement avec plus de détails sur votre achat, nous serions heureux de vous aider à résoudre ce problème. Merci de votre compréhension.\"}"
      ]
     },
     "execution_count": 91,
     "metadata": {},
     "output_type": "execute_result"
    }
   ],
   "source": [
    "review = df.Review[5]\n",
    "overall_chain(review)"
   ]
  },
  {
   "cell_type": "markdown",
   "id": "f4b5f1dc-f7f7-4637-956c-45b232fc4e0d",
   "metadata": {},
   "source": [
    "## Chain with Memory"
   ]
  },
  {
   "cell_type": "code",
   "execution_count": 165,
   "id": "910e25ec-efde-4bea-84f2-a661ab03acdf",
   "metadata": {},
   "outputs": [],
   "source": [
    "# Synopsis\n",
    "synopsis_template = \"\"\"\n",
    "You are a playwright. Given the title of play and the era it is set in, \n",
    "it is your job to write a short synopsis for that title.\n",
    "\n",
    "Title: {title}\n",
    "Era: {era}\n",
    "Playwright: This is a synopsis for the above play:\n",
    "\"\"\"\n",
    "synopsis_template = ChatPromptTemplate.from_template(synopsis_template)\n",
    "synopsis_chain =  LLMChain(llm=llm, prompt=synopsis_template, output_key=\"synopsis\")"
   ]
  },
  {
   "cell_type": "code",
   "execution_count": 166,
   "id": "9c3cdfc1-a56e-46a4-ba30-0a026011d724",
   "metadata": {},
   "outputs": [],
   "source": [
    "# Review\n",
    "review_template = \"\"\"\n",
    "You are a play critic from the New York Times. Given the synopsis of play, \n",
    "it is your job to write a short review for that play.\n",
    "\n",
    "Play Synopsis:\n",
    "{synopsis}\n",
    "Review from a New York Times play critic of the above play:\n",
    "\"\"\"\n",
    "review_template = ChatPromptTemplate.from_template(review_template)\n",
    "review_chain = LLMChain(llm=llm, prompt=review_template, output_key=\"review\")"
   ]
  },
  {
   "cell_type": "code",
   "execution_count": 167,
   "id": "9673ff9c-87a1-4193-b3ec-d52c050c2657",
   "metadata": {},
   "outputs": [],
   "source": [
    "social_template = \"\"\"\n",
    "You are a social media manager for a theater company.  Given the title of play, \n",
    "the era it is set in, the date, time and location, the synopsis of the play, and the review of the play, \n",
    "it is your job to write a short social media post for that play.\n",
    "\n",
    "Here is some context about the time and location of the play:\n",
    "Date and Time: {time}\n",
    "Location: {location}\n",
    "\n",
    "Play Synopsis:\n",
    "{synopsis}\n",
    "Review from a New York Times play critic of the above play:\n",
    "{review}\n",
    "\n",
    "Social Media Post:\n",
    "\"\"\"\n",
    "social_template = ChatPromptTemplate.from_template(social_template)\n",
    "social_chain = LLMChain(llm=llm, prompt=social_template, output_key=\"social_post_text\")"
   ]
  },
  {
   "cell_type": "code",
   "execution_count": 170,
   "id": "4d3d1321-39a6-4d7c-80c5-f67bbcf5d92f",
   "metadata": {},
   "outputs": [],
   "source": [
    "overall_chain = SequentialChain(\n",
    "    chains=[synopsis_chain, review_chain, social_chain],\n",
    "    memory=SimpleMemory(memories={\"time\": \"December 25th, 8pm PST\", \"location\": \"Theater in the Park\"}),\n",
    "    input_variables=[\"era\", \"title\"],\n",
    "    output_variables=[\"social_post_text\"],\n",
    "    verbose=True\n",
    ")"
   ]
  },
  {
   "cell_type": "code",
   "execution_count": 171,
   "id": "051f7069-c2dc-4f2d-b5bf-83553f68f635",
   "metadata": {},
   "outputs": [
    {
     "name": "stdout",
     "output_type": "stream",
     "text": [
      "\n",
      "\n",
      "\u001b[1m> Entering new SequentialChain chain...\u001b[0m\n",
      "\n",
      "\u001b[1m> Finished chain.\u001b[0m\n"
     ]
    },
    {
     "data": {
      "text/plain": [
       "{'title': 'Tragedy at sunset on the beach',\n",
       " 'era': 'Victorian England',\n",
       " 'time': 'December 25th, 8pm PST',\n",
       " 'location': 'Theater in the Park',\n",
       " 'social_post_text': \"Join us on December 25th at 8pm PST at Theater in the Park for a gripping tale of love and duty in Victorian England. Tragedy at Sunset on the Beach follows the story of Elizabeth, torn between her family's expectations and her heart's desire. Don't miss this beautifully crafted play that explores the complexities of love and the consequences of our choices. Critics are raving about the outstanding performances and powerful climax that will leave you deeply affected. Get your tickets now! #TragedyatSunsetontheBeach #TheaterinthePark #VictorianEngland #LoveandDuty #MustSeePlay\"}"
      ]
     },
     "execution_count": 171,
     "metadata": {},
     "output_type": "execute_result"
    }
   ],
   "source": [
    "overall_chain({\"title\":\"Tragedy at sunset on the beach\", \"era\": \"Victorian England\"})"
   ]
  },
  {
   "cell_type": "markdown",
   "id": "14fd5b14-8443-42eb-80f6-f3cf8d781b30",
   "metadata": {},
   "source": [
    "## Router Chain"
   ]
  },
  {
   "cell_type": "markdown",
   "id": "0119201c-3ad4-4895-9141-0fe4ded5272e",
   "metadata": {},
   "source": [
    "![Simple Seuqntial Chain](../images/router_chain.png)"
   ]
  },
  {
   "cell_type": "code",
   "execution_count": 54,
   "id": "f4da13db-d802-4ee7-9263-2c67a8e2e5d5",
   "metadata": {},
   "outputs": [],
   "source": [
    "from langchain.chains.router import MultiPromptChain\n",
    "from langchain.chains.router.llm_router import LLMRouterChain,RouterOutputParser\n",
    "from langchain.prompts import PromptTemplate"
   ]
  },
  {
   "cell_type": "code",
   "execution_count": 55,
   "id": "7066f7a5-1474-4fd7-9f0c-25017c558907",
   "metadata": {},
   "outputs": [],
   "source": [
    "physics_template = \"\"\"You are a very smart physics professor. \\\n",
    "You are great at answering questions about physics in a concise\\\n",
    "and easy to understand manner. \\\n",
    "When you don't know the answer to a question you admit\\\n",
    "that you don't know.\n",
    "\n",
    "Here is a question:\n",
    "{input}\"\"\"\n",
    "\n",
    "\n",
    "math_template = \"\"\"You are a very good mathematician. \\\n",
    "You are great at answering math questions. \\\n",
    "You are so good because you are able to break down \\\n",
    "hard problems into their component parts, \n",
    "answer the component parts, and then put them together\\\n",
    "to answer the broader question.\n",
    "\n",
    "Here is a question:\n",
    "{input}\"\"\"\n",
    "\n",
    "history_template = \"\"\"You are a very good historian. \\\n",
    "You have an excellent knowledge of and understanding of people,\\\n",
    "events and contexts from a range of historical periods. \\\n",
    "You have the ability to think, reflect, debate, discuss and \\\n",
    "evaluate the past. You have a respect for historical evidence\\\n",
    "and the ability to make use of it to support your explanations \\\n",
    "and judgements.\n",
    "\n",
    "Here is a question:\n",
    "{input}\"\"\"\n",
    "\n",
    "\n",
    "computerscience_template = \"\"\" You are a successful computer scientist.\\\n",
    "You have a passion for creativity, collaboration,\\\n",
    "forward-thinking, confidence, strong problem-solving capabilities,\\\n",
    "understanding of theories and algorithms, and excellent communication \\\n",
    "skills. You are great at answering coding questions. \\\n",
    "You are so good because you know how to solve a problem by \\\n",
    "describing the solution in imperative steps \\\n",
    "that a machine can easily interpret and you know how to \\\n",
    "choose a solution that has a good balance between \\\n",
    "time complexity and space complexity. \n",
    "\n",
    "Here is a question:\n",
    "{input}\"\"\""
   ]
  },
  {
   "cell_type": "code",
   "execution_count": 56,
   "id": "07178c91-9bbd-44bf-9a08-7ffddf8317b5",
   "metadata": {},
   "outputs": [],
   "source": [
    "prompt_infos = [\n",
    "    {\n",
    "        \"name\": \"physics\", \n",
    "        \"description\": \"Good for answering questions about physics\", \n",
    "        \"prompt_template\": physics_template\n",
    "    },\n",
    "    {\n",
    "        \"name\": \"math\", \n",
    "        \"description\": \"Good for answering math questions\", \n",
    "        \"prompt_template\": math_template\n",
    "    },\n",
    "    {\n",
    "        \"name\": \"History\", \n",
    "        \"description\": \"Good for answering history questions\", \n",
    "        \"prompt_template\": history_template\n",
    "    },\n",
    "    {\n",
    "        \"name\": \"computer science\", \n",
    "        \"description\": \"Good for answering computer science questions\", \n",
    "        \"prompt_template\": computerscience_template\n",
    "    }\n",
    "]"
   ]
  },
  {
   "cell_type": "code",
   "execution_count": 57,
   "id": "5edc63c1-6346-4caf-814a-30496adb6af3",
   "metadata": {},
   "outputs": [],
   "source": [
    "destination_chains = {}\n",
    "for p_info in prompt_infos:\n",
    "    name = p_info[\"name\"]\n",
    "    prompt_template = p_info[\"prompt_template\"]\n",
    "    prompt = ChatPromptTemplate.from_template(template=prompt_template)\n",
    "    chain = LLMChain(llm=llm, prompt=prompt)\n",
    "    destination_chains[name] = chain  \n",
    "    \n",
    "destinations = [f\"{p['name']}: {p['description']}\" for p in prompt_infos]\n",
    "destinations_str = \"\\n\".join(destinations)"
   ]
  },
  {
   "cell_type": "code",
   "execution_count": 58,
   "id": "ed25c1be-f005-4d5a-b82b-80a7784af575",
   "metadata": {},
   "outputs": [],
   "source": [
    "default_prompt = ChatPromptTemplate.from_template(\"{input}\")\n",
    "default_chain = LLMChain(llm=llm, prompt=default_prompt)"
   ]
  },
  {
   "cell_type": "code",
   "execution_count": 59,
   "id": "ebd9d25d-05da-4bb6-b8d7-4b73675ca5b6",
   "metadata": {},
   "outputs": [],
   "source": [
    "MULTI_PROMPT_ROUTER_TEMPLATE = \"\"\"Given a raw text input to a \\\n",
    "language model select the model prompt best suited for the input. \\\n",
    "You will be given the names of the available prompts and a \\\n",
    "description of what the prompt is best suited for. \\\n",
    "You may also revise the original input if you think that revising\\\n",
    "it will ultimately lead to a better response from the language model.\n",
    "\n",
    "<< FORMATTING >>\n",
    "Return a markdown code snippet with a JSON object formatted to look like:\n",
    "```json\n",
    "{{{{\n",
    "    \"destination\": string \\ name of the prompt to use or \"DEFAULT\"\n",
    "    \"next_inputs\": string \\ a potentially modified version of the original input\n",
    "}}}}\n",
    "```\n",
    "\n",
    "REMEMBER: \"destination\" MUST be one of the candidate prompt \\\n",
    "names specified below OR it can be \"DEFAULT\" if the input is not\\\n",
    "well suited for any of the candidate prompts.\n",
    "REMEMBER: \"next_inputs\" can just be the original input \\\n",
    "if you don't think any modifications are needed.\n",
    "\n",
    "<< CANDIDATE PROMPTS >>\n",
    "{destinations}\n",
    "\n",
    "<< INPUT >>\n",
    "{{input}}\n",
    "\n",
    "<< OUTPUT (remember to include the ```json)>>\"\"\""
   ]
  },
  {
   "cell_type": "code",
   "execution_count": 60,
   "id": "8e1dfe4f-872d-493b-b5a9-0353025a3f8f",
   "metadata": {},
   "outputs": [],
   "source": [
    "router_template = MULTI_PROMPT_ROUTER_TEMPLATE.format(\n",
    "    destinations=destinations_str\n",
    ")\n",
    "router_prompt = PromptTemplate(\n",
    "    template=router_template,\n",
    "    input_variables=[\"input\"],\n",
    "    output_parser=RouterOutputParser(),\n",
    ")\n",
    "\n",
    "router_chain = LLMRouterChain.from_llm(llm, router_prompt)"
   ]
  },
  {
   "cell_type": "code",
   "execution_count": 61,
   "id": "064dcd64-59ee-4c55-b3ad-1afa2a126dc6",
   "metadata": {},
   "outputs": [],
   "source": [
    "chain = MultiPromptChain(router_chain=router_chain, \n",
    "                         destination_chains=destination_chains, \n",
    "                         default_chain=default_chain, verbose=True\n",
    "                        )"
   ]
  },
  {
   "cell_type": "code",
   "execution_count": 62,
   "id": "2e78580e-8944-4855-840d-e397d02866c0",
   "metadata": {},
   "outputs": [
    {
     "name": "stdout",
     "output_type": "stream",
     "text": [
      "\n",
      "\n",
      "\u001b[1m> Entering new MultiPromptChain chain...\u001b[0m\n",
      "physics: {'input': 'What is black body radiation?'}\n",
      "\u001b[1m> Finished chain.\u001b[0m\n"
     ]
    },
    {
     "data": {
      "text/plain": [
       "'Black body radiation refers to the electromagnetic radiation emitted by an object that absorbs all the radiation incident upon it. A black body is a theoretical object that completely absorbs all radiation that falls on it, reflecting nothing. The spectrum of radiation emitted by a black body depends only on its temperature, and not on its composition or any other feature. As the temperature of the black body increases, the radiation becomes brighter and its peak wavelength shifts towards the shorter (blue) end of the spectrum. This phenomenon is known as Wien’s displacement law. Black body radiation has been used to explain various phenomena in physics, including the observed spectrum of stars and the cosmic microwave background radiation.'"
      ]
     },
     "execution_count": 62,
     "metadata": {},
     "output_type": "execute_result"
    }
   ],
   "source": [
    "chain.run(\"What is black body radiation?\")"
   ]
  },
  {
   "cell_type": "code",
   "execution_count": 63,
   "id": "d56b0656-a042-4bed-83b7-bca35a137b5f",
   "metadata": {},
   "outputs": [
    {
     "name": "stdout",
     "output_type": "stream",
     "text": [
      "\n",
      "\n",
      "\u001b[1m> Entering new MultiPromptChain chain...\u001b[0m\n",
      "math: {'input': 'what is 2 + 2'}\n",
      "\u001b[1m> Finished chain.\u001b[0m\n"
     ]
    },
    {
     "data": {
      "text/plain": [
       "'As an AI language model, I am programmed to provide accurate and helpful responses. The answer to your question is 4.'"
      ]
     },
     "execution_count": 63,
     "metadata": {},
     "output_type": "execute_result"
    }
   ],
   "source": [
    "chain.run(\"what is 2 + 2\")"
   ]
  },
  {
   "cell_type": "code",
   "execution_count": 64,
   "id": "a4347aa6-b42f-4945-8793-31032458e744",
   "metadata": {},
   "outputs": [
    {
     "name": "stdout",
     "output_type": "stream",
     "text": [
      "\n",
      "\n",
      "\u001b[1m> Entering new MultiPromptChain chain...\u001b[0m\n",
      "History: {'input': 'When did Barack Obama serve in the office?'}\n",
      "\u001b[1m> Finished chain.\u001b[0m\n"
     ]
    },
    {
     "data": {
      "text/plain": [
       "'Barack Obama served as the 44th President of the United States from January 20, 2009 to January 20, 2017.'"
      ]
     },
     "execution_count": 64,
     "metadata": {},
     "output_type": "execute_result"
    }
   ],
   "source": [
    "chain.run(\"When did Barack Obama serve in the office?\")"
   ]
  },
  {
   "cell_type": "code",
   "execution_count": 66,
   "id": "654020ce-0c37-402f-aabc-7d9d67e1c9e2",
   "metadata": {},
   "outputs": [],
   "source": [
    "#chain.run(\"Why does every cell in our body contain DNA?\")"
   ]
  },
  {
   "cell_type": "code",
   "execution_count": null,
   "id": "8c9e71d3-a470-4a08-9da5-7f8200452d23",
   "metadata": {},
   "outputs": [],
   "source": []
  },
  {
   "cell_type": "code",
   "execution_count": null,
   "id": "6381c232-6a6c-4b55-87bd-930f8e00d1a9",
   "metadata": {},
   "outputs": [],
   "source": []
  },
  {
   "cell_type": "code",
   "execution_count": null,
   "id": "221d2531-f6f0-4e2f-af58-e0d63e364658",
   "metadata": {},
   "outputs": [],
   "source": []
  }
 ],
 "metadata": {
  "kernelspec": {
   "display_name": "zeiss_intel",
   "language": "python",
   "name": "zeiss_intel"
  },
  "language_info": {
   "codemirror_mode": {
    "name": "ipython",
    "version": 3
   },
   "file_extension": ".py",
   "mimetype": "text/x-python",
   "name": "python",
   "nbconvert_exporter": "python",
   "pygments_lexer": "ipython3",
   "version": "3.10.11"
  }
 },
 "nbformat": 4,
 "nbformat_minor": 5
}
