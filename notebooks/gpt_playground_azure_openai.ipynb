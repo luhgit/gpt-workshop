{
 "cells": [
  {
   "cell_type": "markdown",
   "id": "c2a18493-2971-4a2a-a804-56188b0c2383",
   "metadata": {},
   "source": [
    "# Azure OpenAI GPT Playground"
   ]
  },
  {
   "cell_type": "code",
   "execution_count": 5,
   "id": "7fdb99ed-b769-4b28-8749-0828fa6c5651",
   "metadata": {},
   "outputs": [],
   "source": [
    "import json\n",
    "import openai"
   ]
  },
  {
   "cell_type": "code",
   "execution_count": 6,
   "id": "057ab0ec-afb5-421d-bab7-061361ffa9a5",
   "metadata": {},
   "outputs": [],
   "source": [
    "def prompt_completion(messages, model, temperature=0.3, max_tokens=500, top_p=0.95, stop=None):\n",
    "    response = openai.ChatCompletion.create(\n",
    "                  engine=model,\n",
    "                  messages=messages,\n",
    "                  temperature=temperature,\n",
    "                  max_tokens=max_tokens,\n",
    "                  top_p=top_p,\n",
    "                  stop=stop\n",
    "                  )\n",
    "    return response['choices'][0]['message']['content'].strip()\n",
    "\n",
    "def preprocess_prompt(prompt, instruction=None):\n",
    "    system_message = \"Assistant is a large language model trained by OpenAI.\" if instruction is None else instruction\n",
    "    messages=[{\"role\": \"system\", \"content\": system_message}, {\"role\": \"user\", \"content\": prompt}]\n",
    "    return messages"
   ]
  },
  {
   "cell_type": "markdown",
   "id": "66ffa76f-8257-4e68-8475-9c354ece0b34",
   "metadata": {},
   "source": [
    "## Configure Azure OpenAI API"
   ]
  },
  {
   "cell_type": "code",
   "execution_count": 9,
   "id": "ddb6208a-d9ab-4a4d-8c15-dfa6d28d78a7",
   "metadata": {},
   "outputs": [],
   "source": [
    "with open('../configs/config.json', 'r') as f:\n",
    "    config = json.load(f)"
   ]
  },
  {
   "cell_type": "code",
   "execution_count": 11,
   "id": "3f473d08-1772-4966-ae7b-85faf13ed70b",
   "metadata": {},
   "outputs": [],
   "source": [
    "openai.api_key = config['OPENAI_API_KEY']\n",
    "openai.api_base = config['OPENAI_API_BASE']\n",
    "openai.api_type = config['OPENAI_API_TYPE']\n",
    "openai.api_version = config['OPENAI_API_VERSION']\n",
    "model_name = config['OPENAI_MODEL_NAME']"
   ]
  },
  {
   "cell_type": "markdown",
   "id": "24d97d7b-3ac6-422f-be6c-75526335f513",
   "metadata": {},
   "source": [
    "## Extract Entities"
   ]
  },
  {
   "cell_type": "code",
   "execution_count": 12,
   "id": "7f1f3e65-2432-4df3-bd33-353a46966567",
   "metadata": {},
   "outputs": [],
   "source": [
    "prompt = (\"Extract the entities from the following text: \"\n",
    "              \"The new iPhone model is set to be released next month. \"\n",
    "              \"It has been highly anticipated by Apple fans and is expected \"\n",
    "              \"to feature a larger screen and improved camera.\")\n",
    "\n",
    "messages = preprocess_prompt(prompt)"
   ]
  },
  {
   "cell_type": "code",
   "execution_count": 13,
   "id": "cee1750a-e4fc-40a3-b25f-681e0010dbbe",
   "metadata": {},
   "outputs": [
    {
     "name": "stdout",
     "output_type": "stream",
     "text": [
      "Entities:\n",
      "- Product: iPhone\n",
      "- Company: Apple\n",
      "- Date: next month\n"
     ]
    }
   ],
   "source": [
    "response = prompt_completion(messages, model=model_name)\n",
    "print(response)"
   ]
  },
  {
   "cell_type": "code",
   "execution_count": 131,
   "id": "fc9c20c0-a2f5-402b-9734-5d57521e3981",
   "metadata": {},
   "outputs": [],
   "source": [
    "prompt = (\"Extract the entities from the following text and produce output in the json format: \"\n",
    "              \"The new iPhone model is set to be released next month. \"\n",
    "              \"It has been highly anticipated by Apple fans and is expected \"\n",
    "              \"to feature a larger screen and improved camera.\")\n",
    "\n",
    "messages = preprocess_prompt(prompt)"
   ]
  },
  {
   "cell_type": "code",
   "execution_count": 132,
   "id": "1dd9efc9-199b-4e25-b16f-a45fbaf07125",
   "metadata": {},
   "outputs": [
    {
     "name": "stdout",
     "output_type": "stream",
     "text": [
      "Here is the output in JSON format:\n",
      "\n",
      "```\n",
      "{\n",
      "  \"entities\": [\n",
      "    {\n",
      "      \"entity\": \"iPhone\",\n",
      "      \"type\": \"product\"\n",
      "    },\n",
      "    {\n",
      "      \"entity\": \"Apple\",\n",
      "      \"type\": \"company\"\n",
      "    },\n",
      "    {\n",
      "      \"entity\": \"next month\",\n",
      "      \"type\": \"date\"\n",
      "    },\n",
      "    {\n",
      "      \"entity\": \"larger screen\",\n",
      "      \"type\": \"feature\"\n",
      "    },\n",
      "    {\n",
      "      \"entity\": \"improved camera\",\n",
      "      \"type\": \"feature\"\n",
      "    }\n",
      "  ]\n",
      "}\n",
      "```\n",
      "\n",
      "The entities extracted from the text are:\n",
      "\n",
      "- \"iPhone\" (product)\n",
      "- \"Apple\" (company)\n",
      "- \"next month\" (date)\n",
      "- \"larger screen\" (feature)\n",
      "- \"improved camera\" (feature)\n"
     ]
    }
   ],
   "source": [
    "response = prompt_completion(messages, model=model_name)\n",
    "print(response)"
   ]
  },
  {
   "cell_type": "code",
   "execution_count": 134,
   "id": "58008c8b-91b7-4b04-9857-1170e138f256",
   "metadata": {},
   "outputs": [],
   "source": [
    "prompt = (\"\"\"Please summarize the information about the product based on the following: \n",
    "            {\n",
    "              \"entities\": [\n",
    "                {\n",
    "                  \"entity\": \"iPhone\",\n",
    "                  \"type\": \"product\"\n",
    "                },\n",
    "                {\n",
    "                  \"entity\": \"Apple\",\n",
    "                  \"type\": \"company\"\n",
    "                },\n",
    "                {\n",
    "                  \"entity\": \"next month\",\n",
    "                  \"type\": \"date\"\n",
    "                },\n",
    "                {\n",
    "                  \"entity\": \"larger screen\",\n",
    "                  \"type\": \"feature\"\n",
    "                },\n",
    "                {\n",
    "                  \"entity\": \"improved camera\",\n",
    "                  \"type\": \"feature\"\n",
    "                }\n",
    "              ]\n",
    "            }\n",
    "        \"\"\")\n",
    "\n",
    "messages = preprocess_prompt(prompt)"
   ]
  },
  {
   "cell_type": "code",
   "execution_count": 135,
   "id": "047b02e9-14c5-4efb-979f-3bfc91cd52d8",
   "metadata": {},
   "outputs": [
    {
     "name": "stdout",
     "output_type": "stream",
     "text": [
      "The product in question is an iPhone made by the company Apple. It is expected to be released next month and will have a larger screen and an improved camera as new features.\n"
     ]
    }
   ],
   "source": [
    "response = prompt_completion(messages, model=model_name)\n",
    "print(response)"
   ]
  },
  {
   "cell_type": "code",
   "execution_count": 137,
   "id": "d84dd485-23a6-46fa-87fe-c5dcbe948324",
   "metadata": {},
   "outputs": [],
   "source": [
    "prompt = (\"Please provide a sentiment for the following text and produce output as json: \"\n",
    "          \"Apple is releasing a new iPhone with a larger screen and improved camera next month.\")\n",
    "\n",
    "messages = preprocess_prompt(prompt)"
   ]
  },
  {
   "cell_type": "code",
   "execution_count": 138,
   "id": "be7cbf38-8909-4637-8810-5bb06ecef088",
   "metadata": {},
   "outputs": [
    {
     "name": "stdout",
     "output_type": "stream",
     "text": [
      "{\n",
      "  \"text\": \"Apple is releasing a new iPhone with a larger screen and improved camera next month.\",\n",
      "  \"sentiment\": \"positive\"\n",
      "}\n"
     ]
    }
   ],
   "source": [
    "response = prompt_completion(messages, model=model_name)\n",
    "print(response)"
   ]
  },
  {
   "cell_type": "markdown",
   "id": "faf76224-dff3-4dfd-8eaf-4a4c5ba04bf6",
   "metadata": {},
   "source": [
    "### Translation"
   ]
  },
  {
   "cell_type": "code",
   "execution_count": 139,
   "id": "d46a1856-cfa1-4781-8d77-4f41c40d2386",
   "metadata": {},
   "outputs": [],
   "source": [
    "prompt = (\"Please translate the following text in Swiss German: \"\n",
    "          \"I have to go shopping so that I can prepare a nine o’clock snack for my son.\")\n",
    "\n",
    "messages = preprocess_prompt(prompt)"
   ]
  },
  {
   "cell_type": "code",
   "execution_count": 143,
   "id": "3f3a969f-0e0f-4d93-ac55-0051b2428f31",
   "metadata": {},
   "outputs": [
    {
     "name": "stdout",
     "output_type": "stream",
     "text": [
      "Ich muess go schoppe, damit ich es Nüünisnack für min Sohn vorbereite cha.\n"
     ]
    }
   ],
   "source": [
    "response = prompt_completion(messages, model=model_name)\n",
    "print(response)"
   ]
  },
  {
   "cell_type": "markdown",
   "id": "2a729968-b967-44b6-a41b-7eda211944ac",
   "metadata": {},
   "source": [
    "### Explain solution"
   ]
  },
  {
   "cell_type": "code",
   "execution_count": 144,
   "id": "a3efbe0d-685d-4300-a70c-fc648890b514",
   "metadata": {},
   "outputs": [],
   "source": [
    "prompt = (\"Determine if the student's solution is correct or not: \"\n",
    "          \"Question: I'm building a solar power installation and I need help working out the financials. \"\n",
    "              \"Land costs $100 / square foot \"\n",
    "              \"I can buy solar panels for $250 / square foot \"\n",
    "              \"I negotiated a contract for maintenance that will cost me a flat $100k per year, and an additional $10 square foot \"\n",
    "          \"What is the total cost for the first year of operations as a function of the number of square feet. \"\n",
    "          \"Student's Solution: Let x be the size of the installation in square feet. \"\n",
    "          \"Costs: \"\n",
    "              \"1. Land cost: 100x \"\n",
    "              \"2. Solar panel cost: 250x \"\n",
    "              \"3. Maintenance cost: 100,000 + 100x \"\n",
    "          \"Total cost: 100x + 250x + 100,000 + 100x = 450x + 100,000 \")\n",
    "\n",
    "messages = preprocess_prompt(prompt)"
   ]
  },
  {
   "cell_type": "code",
   "execution_count": 145,
   "id": "d06ec36c-8e18-4c59-bb4d-695a71e30f65",
   "metadata": {},
   "outputs": [
    {
     "name": "stdout",
     "output_type": "stream",
     "text": [
      "The student's solution appears to be correct. They correctly identified the three costs associated with the solar power installation and used them to calculate the total cost as a function of the number of square feet.\n"
     ]
    }
   ],
   "source": [
    "response = prompt_completion(messages, model=model_name)\n",
    "print(response)"
   ]
  },
  {
   "cell_type": "code",
   "execution_count": 148,
   "id": "4870200c-7b4b-43a4-821a-fb2d21ded85d",
   "metadata": {},
   "outputs": [],
   "source": [
    "prompt = (\"Solve the following question and explain the reasoning: \"\n",
    "          \"Question: I'm building a solar power installation and I need help working out the financials. \"\n",
    "              \"Land costs $100 / square foot \"\n",
    "              \"I can buy solar panels for $250 / square foot \"\n",
    "              \"I negotiated a contract for maintenance that will cost me a flat $100k per year, and an additional $10 square foot \"\n",
    "          \"What is the total cost for the first year of operations as a function of the number of square feet. \"\n",
    "          \"Solution:\"\n",
    "         )\n",
    "\n",
    "messages = preprocess_prompt(prompt)"
   ]
  },
  {
   "cell_type": "code",
   "execution_count": 149,
   "id": "e2e7e88f-58d8-444d-9df0-de71481d67e8",
   "metadata": {},
   "outputs": [
    {
     "name": "stdout",
     "output_type": "stream",
     "text": [
      "To calculate the total cost for the first year of operations as a function of the number of square feet, we need to take into account the cost of land, the cost of solar panels, and the cost of maintenance.\n",
      "\n",
      "Let's say the number of square feet we need for the solar power installation is x. Then the cost of land would be 100x, and the cost of solar panels would be 250x. The cost of maintenance would be a flat $100k per year, plus an additional $10 per square foot, which would be 100k + 10x.\n",
      "\n",
      "Therefore, the total cost for the first year of operations would be:\n",
      "\n",
      "Total cost = Cost of land + Cost of solar panels + Cost of maintenance\n",
      "Total cost = 100x + 250x + 100k + 10x\n",
      "Total cost = 360x + 100k\n",
      "\n",
      "So the total cost for the first year of operations as a function of the number of square feet is 360x + 100k.\n"
     ]
    }
   ],
   "source": [
    "response = prompt_completion(messages, model=model_name)\n",
    "print(response)"
   ]
  },
  {
   "cell_type": "markdown",
   "id": "a5a931bb-7a1c-4ba3-8180-b4880ec43e49",
   "metadata": {},
   "source": [
    "### System Instruction"
   ]
  },
  {
   "cell_type": "code",
   "execution_count": 150,
   "id": "49f2dbc3-b453-4a4b-92f1-879d23eb9038",
   "metadata": {},
   "outputs": [],
   "source": [
    "prompt = (\"Explain Generative AI in German Language.\")\n",
    "\n",
    "messages = preprocess_prompt(prompt)"
   ]
  },
  {
   "cell_type": "code",
   "execution_count": 151,
   "id": "6979656a-b5cc-42a6-92f9-f63cbc55deba",
   "metadata": {},
   "outputs": [
    {
     "name": "stdout",
     "output_type": "stream",
     "text": [
      "Generative AI bezieht sich auf eine Art von künstlicher Intelligenz, die in der Lage ist, neue Daten oder Inhalte zu erstellen, die ähnlich wie die ursprünglichen Daten aussehen. Im Wesentlichen kann Generative AI auf der Grundlage von vorhandenen Daten neue Inhalte erstellen, die denen ähneln, die es bereits gesehen hat. Dies wird durch die Verwendung von Algorithmen und Modellen erreicht, die in der Lage sind, Muster in den vorhandenen Daten zu erkennen und diese Muster zu verwenden, um neue Daten zu generieren. Ein Beispiel für Generative AI ist die Erstellung von Bildern oder Musik durch einen Computer auf der Grundlage von vorhandenen Beispielen.\n"
     ]
    }
   ],
   "source": [
    "response = prompt_completion(messages, model=model_name)\n",
    "print(response)"
   ]
  },
  {
   "cell_type": "code",
   "execution_count": 152,
   "id": "78c60163-f8a7-4051-8dbf-7e65ee5e06cd",
   "metadata": {},
   "outputs": [],
   "source": [
    "prompt = (\"Explain Generative AI in German Language.\")\n",
    "\n",
    "messages = preprocess_prompt(prompt, instruction=\"Assistant is a large language model trained by OpenAI. You are supposed to converse only in English language.\")"
   ]
  },
  {
   "cell_type": "code",
   "execution_count": 153,
   "id": "5676ea7b-c6a0-479f-8d73-b406134dfea9",
   "metadata": {},
   "outputs": [
    {
     "name": "stdout",
     "output_type": "stream",
     "text": [
      "Generative KI bezieht sich auf eine Art von künstlicher Intelligenz, die in der Lage ist, neue Daten oder Inhalte zu erstellen, anstatt nur vorhandene Daten zu analysieren oder zu klassifizieren. Im Wesentlichen kann eine generative KI \"kreativ\" sein und neue Dinge schaffen, die auf den Mustern und Regeln basieren, die sie aus vorhandenen Daten gelernt hat. Ein Beispiel für generative KI ist ein Textgenerator, der in der Lage ist, neue Texte zu erstellen, die auf einer großen Menge von Trainingsdaten basieren.\n"
     ]
    }
   ],
   "source": [
    "response = prompt_completion(messages, model=model_name)\n",
    "print(response)"
   ]
  },
  {
   "cell_type": "markdown",
   "id": "a0cf90a1-5fa8-4bc6-a8aa-0c0a47d8a6ab",
   "metadata": {},
   "source": [
    "### Hallucination"
   ]
  },
  {
   "cell_type": "code",
   "execution_count": 154,
   "id": "306b21ad-ace9-4e49-a749-b6d721f6735f",
   "metadata": {},
   "outputs": [],
   "source": [
    "prompt = (\"Tell me about AeroGlide UltraSlim Smart Toothbrush by Boie.\")\n",
    "\n",
    "messages = preprocess_prompt(prompt)"
   ]
  },
  {
   "cell_type": "code",
   "execution_count": 155,
   "id": "626f0f60-365f-4e71-a981-6c616e285257",
   "metadata": {},
   "outputs": [
    {
     "name": "stdout",
     "output_type": "stream",
     "text": [
      "The AeroGlide UltraSlim Smart Toothbrush by Boie is an electric toothbrush that uses sonic technology to clean teeth. It has a slim design that makes it easy to hold and maneuver, and it comes with a charging base that doubles as a storage container. The toothbrush has three different brushing modes: clean, sensitive, and massage, and it also has a timer that ensures you brush for the recommended two minutes. The brush head is made of a soft, antimicrobial material that is gentle on teeth and gums, and it is designed to last for up to six months. The toothbrush also connects to a mobile app that provides personalized brushing recommendations and tracks your brushing habits over time.\n"
     ]
    }
   ],
   "source": [
    "response = prompt_completion(messages, model=model_name)\n",
    "print(response)"
   ]
  },
  {
   "cell_type": "code",
   "execution_count": 156,
   "id": "5d4ac318-fb6f-494a-bc1c-91bb0aceeba6",
   "metadata": {},
   "outputs": [],
   "source": [
    "prompt = (\"Tell me about AeroGlide UltraSlim Smart Toothbrush by Boie.\")\n",
    "\n",
    "messages = preprocess_prompt(prompt, instruction=\"Assistant is a large language model trained by OpenAI. Only answer when you are very sure.\")"
   ]
  },
  {
   "cell_type": "code",
   "execution_count": 157,
   "id": "4c1de5d8-f5f7-4dda-a464-1f953110a7d3",
   "metadata": {},
   "outputs": [
    {
     "name": "stdout",
     "output_type": "stream",
     "text": [
      "The AeroGlide UltraSlim Smart Toothbrush by Boie is an electric toothbrush that uses sonic technology to clean teeth. It has a slim design that makes it easy to hold and maneuver, and it comes with a charging base that can be plugged into any USB port. The toothbrush has three different modes: clean, white, and massage, and it also has a two-minute timer to ensure that you brush for the recommended amount of time. The brush heads are made from a durable, antimicrobial material that is gentle on teeth and gums, and they can be easily replaced when they wear out. The toothbrush also connects to a mobile app that provides personalized brushing recommendations and tracks your brushing habits over time.\n"
     ]
    }
   ],
   "source": [
    "response = prompt_completion(messages, model=model_name, temperature=0.1)\n",
    "print(response)"
   ]
  },
  {
   "cell_type": "markdown",
   "id": "ec33ffc0-ce9d-4132-aa72-2c388f7a10c0",
   "metadata": {},
   "source": [
    "## Chain of Thoughts: using LangChain"
   ]
  },
  {
   "cell_type": "code",
   "execution_count": 228,
   "id": "5767fc06-69f9-4f37-8694-53ffc3c19c4b",
   "metadata": {},
   "outputs": [],
   "source": [
    "import os\n",
    "from langchain import LLMChain\n",
    "from langchain.chat_models import AzureChatOpenAI\n",
    "from langchain.memory import SimpleMemory\n",
    "from langchain.chains import SimpleSequentialChain, SequentialChain\n",
    "from langchain.prompts import PromptTemplate\n",
    "from langchain.prompts.chat import ChatPromptTemplate, SystemMessagePromptTemplate, HumanMessagePromptTemplate"
   ]
  },
  {
   "cell_type": "code",
   "execution_count": 229,
   "id": "e5ea07da-7b42-40e3-b842-a9c022e37a43",
   "metadata": {},
   "outputs": [],
   "source": [
    "os.environ['OPENAI_API_TYPE']=config['OPENAI_API_TYPE']\n",
    "os.environ['OPENAI_API_VERSION']=config['OPENAI_API_VERSION']\n",
    "os.environ['OPENAI_API_BASE']=config['OPENAI_API_BASE']\n",
    "os.environ['OPENAI_API_KEY']=config['OPENAI_API_KEY']\n",
    "\n",
    "openai.api_key = config['OPENAI_API_KEY']\n",
    "openai.api_base = config['OPENAI_API_BASE']\n",
    "openai.api_type = config['OPENAI_API_TYPE']\n",
    "openai.api_version = config['OPENAI_API_VERSION']\n",
    "model_name = config['OPENAI_MODEL_NAME']"
   ]
  },
  {
   "cell_type": "code",
   "execution_count": 230,
   "id": "7ba748ef-73f4-4c97-b470-b97abf7e869f",
   "metadata": {},
   "outputs": [],
   "source": [
    "# Define the LLM model\n",
    "chat = AzureChatOpenAI(deployment_name=\", model_name=\"gpt-35-turbo\")"
   ]
  },
  {
   "cell_type": "code",
   "execution_count": 231,
   "id": "afef4e21-d01b-4fb9-89cb-829adc987de7",
   "metadata": {},
   "outputs": [],
   "source": [
    "# Template for Entity Extraction\n",
    "entity_template = \"\"\"{instruction}\n",
    "The new iPhone model is set to be released next month.\n",
    "It has been highly anticipated by Apple fans and is expected\n",
    "to feature a larger screen and improved camera.\"\"\"\n",
    "\n",
    "entity_prompt_template = PromptTemplate(template=entity_template, input_variables=['instruction'])\n",
    "entity_chain = LLMChain(llm=chat, prompt=entity_prompt_template)"
   ]
  },
  {
   "cell_type": "code",
   "execution_count": 214,
   "id": "bfdfbd77-480e-476f-94a1-1dccf8faeef4",
   "metadata": {},
   "outputs": [],
   "source": [
    "# Template for text generation\n",
    "text_template = \"\"\"Please summarize the information about the product based on the following: {entities}\"\"\"\n",
    "\n",
    "text_prompt_template = PromptTemplate(template=text_template, input_variables=['entities'])\n",
    "text_chain = LLMChain(llm=chat, prompt=text_prompt_template)"
   ]
  },
  {
   "cell_type": "code",
   "execution_count": 215,
   "id": "c2541a35-09cf-4a5d-bf37-ace5286442a3",
   "metadata": {},
   "outputs": [],
   "source": [
    "# Template for Sentiment Analysis\n",
    "sentiment_template = \"\"\"Please provide a sentiment for the following text and produce output as json: {text}\"\"\"\n",
    "\n",
    "sentiment_prompt_template = PromptTemplate(template=sentiment_template, input_variables=['text'])\n",
    "sentiment_chain = LLMChain(llm=chat, prompt=sentiment_prompt_template)"
   ]
  },
  {
   "cell_type": "code",
   "execution_count": 216,
   "id": "bfca7f57-1cde-4301-8030-f90dcb3f6a7c",
   "metadata": {},
   "outputs": [
    {
     "name": "stdout",
     "output_type": "stream",
     "text": [
      "\n",
      "\n",
      "\u001b[1m> Entering new SimpleSequentialChain chain...\u001b[0m\n",
      "\u001b[36;1m\u001b[1;3m{\n",
      "  \"entities\": [\n",
      "    {\n",
      "      \"entity\": \"iPhone\",\n",
      "      \"type\": \"product\"\n",
      "    },\n",
      "    {\n",
      "      \"entity\": \"Apple\",\n",
      "      \"type\": \"company\"\n",
      "    },\n",
      "    {\n",
      "      \"entity\": \"next month\",\n",
      "      \"type\": \"date\"\n",
      "    },\n",
      "    {\n",
      "      \"entity\": \"larger screen\",\n",
      "      \"type\": \"feature\"\n",
      "    },\n",
      "    {\n",
      "      \"entity\": \"improved camera\",\n",
      "      \"type\": \"feature\"\n",
      "    }\n",
      "  ]\n",
      "}\u001b[0m\n",
      "\u001b[33;1m\u001b[1;3mApple is releasing a new iPhone with a larger screen and improved camera next month.\u001b[0m\n",
      "\u001b[38;5;200m\u001b[1;3m{\n",
      "    \"text\": \"Apple is releasing a new iPhone with a larger screen and improved camera next month.\",\n",
      "    \"sentiment\": \"positive\"\n",
      "}\u001b[0m\n",
      "\n",
      "\u001b[1m> Finished chain.\u001b[0m\n"
     ]
    },
    {
     "data": {
      "text/plain": [
       "'{\\n    \"text\": \"Apple is releasing a new iPhone with a larger screen and improved camera next month.\",\\n    \"sentiment\": \"positive\"\\n}'"
      ]
     },
     "execution_count": 216,
     "metadata": {},
     "output_type": "execute_result"
    }
   ],
   "source": [
    "# Create Final chain\n",
    "final_chain = SimpleSequentialChain(chains=[entity_chain, text_chain, sentiment_chain], verbose=True)\n",
    "final_chain.run(\"Extract the entities from the following text and produce output in the json format:\")"
   ]
  },
  {
   "cell_type": "markdown",
   "id": "89453385-f70c-47cb-b391-072e17c457d7",
   "metadata": {},
   "source": [
    "## Complex chain"
   ]
  },
  {
   "cell_type": "code",
   "execution_count": 235,
   "id": "5ed201e9-1e9e-4913-bb22-2a848985c8a0",
   "metadata": {},
   "outputs": [],
   "source": [
    "# Synopsis\n",
    "synopsis_template = \"\"\"\n",
    "You are a playwright. Given the title of play and the era it is set in, \n",
    "it is your job to write a short synopsis for that title.\n",
    "\n",
    "Title: {title}\n",
    "Era: {era}\n",
    "Playwright: This is a synopsis for the above play:\n",
    "\"\"\"\n",
    "synopsis_template = PromptTemplate(input_variables=[\"title\", 'era'], template=synopsis_template)\n",
    "synopsis_chain = LLMChain(llm=llm, prompt=synopsis_template, output_key=\"synopsis\")"
   ]
  },
  {
   "cell_type": "code",
   "execution_count": 236,
   "id": "f41bcdb0-9bef-4193-9ee1-604b9faa5a85",
   "metadata": {},
   "outputs": [],
   "source": [
    "# Review\n",
    "review_template = \"\"\"\n",
    "You are a play critic from the New York Times. Given the synopsis of play, \n",
    "it is your job to write a short review for that play.\n",
    "\n",
    "Play Synopsis:\n",
    "{synopsis}\n",
    "Review from a New York Times play critic of the above play:\n",
    "\"\"\"\n",
    "review_template = PromptTemplate(input_variables=[\"synopsis\"], template=review_template)\n",
    "review_chain = LLMChain(llm=llm, prompt=review_template, output_key=\"review\")"
   ]
  },
  {
   "cell_type": "code",
   "execution_count": 238,
   "id": "6f9dc5db-6e32-48e2-b552-ac078c9444bd",
   "metadata": {},
   "outputs": [],
   "source": [
    "social_template = \"\"\"\n",
    "You are a social media manager for a theater company.  Given the title of play, \n",
    "the era it is set in, the date, time and location, the synopsis of the play, and the review of the play, \n",
    "it is your job to write a short social media post for that play.\n",
    "\n",
    "Here is some context about the time and location of the play:\n",
    "Date and Time: {time}\n",
    "Location: {location}\n",
    "\n",
    "Play Synopsis:\n",
    "{synopsis}\n",
    "Review from a New York Times play critic of the above play:\n",
    "{review}\n",
    "\n",
    "Social Media Post:\n",
    "\"\"\"\n",
    "social_template = PromptTemplate(input_variables=[\"synopsis\", \"review\", \"time\", \"location\"], template=social_template)\n",
    "social_chain = LLMChain(llm=llm, prompt=social_template, output_key=\"social_post_text\")"
   ]
  },
  {
   "cell_type": "code",
   "execution_count": 239,
   "id": "a54f3586-e0ea-46e8-9077-bb93fe21c4d2",
   "metadata": {},
   "outputs": [],
   "source": [
    "final_chain = SequentialChain(\n",
    "    memory=SimpleMemory(memories={\"time\": \"December 25th, 8pm PST\", \"location\": \"Theater in the Park\"}),\n",
    "    chains=[synopsis_chain, review_chain, social_chain],\n",
    "    input_variables=[\"era\", \"title\"],\n",
    "    output_variables=[\"social_post_text\"],\n",
    "    verbose=True)"
   ]
  },
  {
   "cell_type": "code",
   "execution_count": 240,
   "id": "e4ae2230-6d8b-40ea-ad69-34f683c63e62",
   "metadata": {},
   "outputs": [
    {
     "name": "stdout",
     "output_type": "stream",
     "text": [
      "\n",
      "\n",
      "\u001b[1m> Entering new SequentialChain chain...\u001b[0m\n",
      "\n",
      "\u001b[1m> Finished chain.\u001b[0m\n"
     ]
    },
    {
     "data": {
      "text/plain": [
       "{'title': 'Tragedy at sunset on the beach',\n",
       " 'era': 'Victorian England',\n",
       " 'time': 'December 25th, 8pm PST',\n",
       " 'location': 'Theater in the Park',\n",
       " 'social_post_text': \"Join us this December 25th at 8pm PST at Theater in the Park for a heart-wrenching performance of Tragedy at Sunset on the Beach. Set in Victorian England, this play follows the tragic consequences of Emily and William's impulsive decision to elope against the wishes of her family. Don't miss this thought-provoking exploration of love and societal expectations. As reviewed by the NY Times, this is a must-see play that will leave a lasting impression. #TragedyatSunsetontheBeach #TheaterinthePark #VictorianEngland #LoveandSociety #MustSeePlay\"}"
      ]
     },
     "execution_count": 240,
     "metadata": {},
     "output_type": "execute_result"
    }
   ],
   "source": [
    "final_chain({\"title\":\"Tragedy at sunset on the beach\", \"era\": \"Victorian England\"})"
   ]
  },
  {
   "cell_type": "code",
   "execution_count": null,
   "id": "99678b3a-58e9-4d90-a055-b9285dfcc666",
   "metadata": {},
   "outputs": [],
   "source": []
  }
 ],
 "metadata": {
  "kernelspec": {
   "display_name": "zeiss_intel",
   "language": "python",
   "name": "zeiss_intel"
  },
  "language_info": {
   "codemirror_mode": {
    "name": "ipython",
    "version": 3
   },
   "file_extension": ".py",
   "mimetype": "text/x-python",
   "name": "python",
   "nbconvert_exporter": "python",
   "pygments_lexer": "ipython3",
   "version": "3.10.11"
  }
 },
 "nbformat": 4,
 "nbformat_minor": 5
}
